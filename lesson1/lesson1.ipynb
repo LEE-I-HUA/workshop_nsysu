{
 "cells": [
  {
   "attachments": {},
   "cell_type": "markdown",
   "metadata": {},
   "source": [
    "#### List"
   ]
  },
  {
   "cell_type": "code",
   "execution_count": 6,
   "metadata": {},
   "outputs": [
    {
     "name": "stdout",
     "output_type": "stream",
     "text": [
      "first value in greet is: 你好\n",
      "こんにちは is on the 4 place of greet list\n"
     ]
    }
   ],
   "source": [
    "greet = ['你好', 'hello', 'Hola', 'こんにちは']\n",
    "countries = ['Taiwan', 'England', 'Spain', 'Japan']\n",
    "type(greet)\n",
    "# get value from list by index\n",
    "hi = greet[0]\n",
    "print(\"first value in greet is:\", hi,)\n",
    "\n",
    "# get index by value\n",
    "# reference: https://pythonexamples.org/python-find-index-of-item-in-list/\n",
    "index = greet.index('こんにちは')\n",
    "\n",
    "print(\"こんにちは is on the\", index+1 , \"place of greet list\")\n",
    "\n",
    "# where is 'Hola'?"
   ]
  },
  {
   "cell_type": "code",
   "execution_count": 7,
   "metadata": {},
   "outputs": [
    {
     "name": "stdout",
     "output_type": "stream",
     "text": [
      "['Taiwan', 'England', 'Spain', 'Japan', 'German']\n"
     ]
    }
   ],
   "source": [
    "# add value\n",
    "greet.append('Guten tag')\n",
    "\n",
    "# it's your turn!! add 'German' to country"
   ]
  },
  {
   "attachments": {},
   "cell_type": "markdown",
   "metadata": {},
   "source": [
    "#### loop"
   ]
  },
  {
   "cell_type": "code",
   "execution_count": 8,
   "metadata": {},
   "outputs": [
    {
     "name": "stdout",
     "output_type": "stream",
     "text": [
      "0\n",
      "1\n",
      "2\n",
      "3\n",
      "4\n",
      "5\n",
      "['你好', 'hello', 'Hola', 'こんにちは', 'Guten tag']\n",
      "你好\n",
      "hello\n",
      "Hola\n"
     ]
    }
   ],
   "source": [
    "# range 5: begin with 0 end up with 5\n",
    "for x in range(6):\n",
    "  print(x)\n",
    "\n",
    "\n",
    "# reference: https://www.w3schools.com/python/python_for_loops.asp\n",
    "print(greet)\n",
    "\n",
    "for x in greet:\n",
    "  print(x)\n",
    "  if x == 'Hola':\n",
    "    break\n",
    "# how's the result?"
   ]
  },
  {
   "cell_type": "code",
   "execution_count": 9,
   "metadata": {},
   "outputs": [
    {
     "name": "stdout",
     "output_type": "stream",
     "text": [
      "We say 你好 in Taiwan\n",
      "We say hello in England\n",
      "We say Hola in Spain\n",
      "We say こんにちは in Japan\n",
      "We say Guten tag in German\n"
     ]
    }
   ],
   "source": [
    "for i in range(5):\n",
    "    print(\"We say\", greet[i], \"in\", countries[i])"
   ]
  },
  {
   "attachments": {},
   "cell_type": "markdown",
   "metadata": {},
   "source": [
    "#### condition"
   ]
  },
  {
   "cell_type": "code",
   "execution_count": 10,
   "metadata": {},
   "outputs": [
    {
     "name": "stdout",
     "output_type": "stream",
     "text": [
      "index of Taiwan in the list is : 0\n"
     ]
    }
   ],
   "source": [
    "# if, elif, else \n",
    "country = 'Taiwan'\n",
    "if country in countries:\n",
    "    index = countries.index(country)\n",
    "    print(f\"index of {country} in the list is : {index}\")\n",
    "else:\n",
    "    print(\"item not present in list\")\n",
    "    \n",
    "# Is 'Korea' in the list? "
   ]
  },
  {
   "attachments": {},
   "cell_type": "markdown",
   "metadata": {},
   "source": [
    "#### function"
   ]
  },
  {
   "attachments": {},
   "cell_type": "markdown",
   "metadata": {},
   "source": [
    "Old McDonald had a farm,Eeieeioh\n",
    "And on his farm he had a cow,Eeieeioh,\n",
    "With a moo moo here,and a moo moo there,\n",
    "Here a moo,there a moo,\n",
    "everywhere a moo, moo\n",
    "Old McDonald had a farm, Eeieeioh!\n",
    "\n",
    "Old McDonald had a farm, Eeieeioh!\n",
    "And on his farm he had a duck, eeieeoh\n",
    "With a quack, quack here, and a quack quack there,\n",
    "Here a quack, there a quack,\n",
    "everywhere a quack, quack\n",
    "Old McDonald had a farm, Eeieeioh!\n",
    "\n",
    "Old McDonald had a farm, Eeieeioh,\n",
    "And on his farm he had a dog, Eeieeioh,\n",
    "With a woof woof here, and a woof woof there,\n",
    "Here a woof, there a woof\n",
    "everywhere a woof woof\n",
    "Old McDonald had a farm, Eeieeioh!\n",
    "\n",
    "Old McDonald had a farm, Eeieeoh,\n",
    "And on his farm he had a pig, Eeieeoh,\n",
    "with a oink, oink here, and a oink, oink there,\n",
    "Here a oink, there a oink,\n",
    "everywhere an oink, oink\n",
    "Old McDonald had a farm, Eeeieeoh!\n",
    "\n",
    "Old McDonald had a farm, Eeieeioh!\n",
    "And on his farm he had a cat, eeieeoh\n",
    "With a meow, meow here, and a meow meow there,\n",
    "Here a meow, there a meow,\n",
    "everywhere a meow, meow\n",
    "Old McDonald had a farm, Eeieeioh!"
   ]
  },
  {
   "cell_type": "code",
   "execution_count": 1,
   "metadata": {},
   "outputs": [
    {
     "name": "stdout",
     "output_type": "stream",
     "text": [
      "Old McDonald had a farm,Eeieeioh.\n",
      "And on his farm he had a cow ,Eeieeioh,\n",
      "With a moo moo here,and a moo moo there,\n",
      "Here a moo,there a moo,\n",
      "everywhere a moo, moo\n",
      "Old McDonald had a farm, Eeieeioh!\n"
     ]
    }
   ],
   "source": [
    "def part0() :\n",
    "    print(\"Old McDonald had a farm,Eeieeioh.\\nAnd on his farm he had a cow ,Eeieeioh,\")\n",
    "    \n",
    "def part1():\n",
    "    print(\"With a moo moo here,and a moo moo there,\\nHere a moo,there a moo,\\\n",
    "          \\neverywhere a moo, moo\\nOld McDonald had a farm, Eeieeioh!\")\n",
    "part0()\n",
    "part1()"
   ]
  },
  {
   "cell_type": "code",
   "execution_count": 2,
   "metadata": {},
   "outputs": [
    {
     "name": "stdout",
     "output_type": "stream",
     "text": [
      "Old McDonald had a farm,Eeieeioh.\n",
      "And on his farm he had a cow ,Eeieeioh,\n",
      "With a moo moo here,and a moo moo there,\n",
      "Here a moo,there a moo,\n",
      "everywhere a moo, moo\n",
      "Old McDonald had a farm, Eeieeioh!\n"
     ]
    }
   ],
   "source": [
    "def part0(animal) -> str:\n",
    "    print(\"Old McDonald had a farm,Eeieeioh.\\nAnd on his farm he had a\",animal ,\",Eeieeioh,\")\n",
    "    \n",
    "def part1():\n",
    "    print(\"With a moo moo here,and a moo moo there,\\nHere a moo,there a moo,\\\n",
    "        \\neverywhere a moo, moo\\nOld McDonald had a farm, Eeieeioh!\")\n",
    "    \n",
    "    \n",
    "part0('cow')\n",
    "part1()"
   ]
  },
  {
   "cell_type": "code",
   "execution_count": null,
   "metadata": {},
   "outputs": [],
   "source": [
    "animal = ['cow', 'duck', 'dog', 'pig', 'cat']\n",
    "sound = ['moo', 'quack', 'woof', 'oink', 'meow']\n",
    "part0(animal[0])"
   ]
  },
  {
   "cell_type": "code",
   "execution_count": 10,
   "metadata": {},
   "outputs": [
    {
     "name": "stdout",
     "output_type": "stream",
     "text": [
      "    Old McDonald had a farm,Eeieeioh.\n",
      "    And on his farm he had a cow ,Eeieeioh,\n",
      "    With a moo moo here,and a moo moo there,\n",
      "    Here a moo there a moo ,\n",
      "    everywhere a moo moo ,\n",
      "    Old McDonald had a farm, Eeieeioh!\n"
     ]
    }
   ],
   "source": [
    "def OM(animal, sound) -> str:\n",
    "    print(\n",
    "        \"    Old McDonald had a farm,Eeieeioh.\\n\\\n",
    "    And on his farm he had a\",animal ,\",Eeieeioh,\\n\\\n",
    "    With a\", sound, sound, \"here,and a\" , sound, sound, \"there,\\n\\\n",
    "    Here a\", sound,\"there a\" , sound,\",\\n\\\n",
    "    everywhere a\" , sound, sound,\",\\n\\\n",
    "    Old McDonald had a farm, Eeieeioh!\")\n",
    "    \n",
    "    \n",
    "OM('cow', 'moo')"
   ]
  },
  {
   "attachments": {},
   "cell_type": "markdown",
   "metadata": {},
   "source": [
    "#### use loop to complete the whole song"
   ]
  },
  {
   "cell_type": "code",
   "execution_count": 13,
   "metadata": {},
   "outputs": [
    {
     "name": "stdout",
     "output_type": "stream",
     "text": [
      "    Old McDonald had a farm,Eeieeioh.\n",
      "    And on his farm he had a cow ,Eeieeioh,\n",
      "    With a moo moo here,and a moo moo there,\n",
      "    Here a moo there a moo ,\n",
      "    everywhere a moo moo ,\n",
      "    Old McDonald had a farm, Eeieeioh!\n",
      " \n",
      "    Old McDonald had a farm,Eeieeioh.\n",
      "    And on his farm he had a duck ,Eeieeioh,\n",
      "    With a quack quack here,and a quack quack there,\n",
      "    Here a quack there a quack ,\n",
      "    everywhere a quack quack ,\n",
      "    Old McDonald had a farm, Eeieeioh!\n",
      " \n",
      "    Old McDonald had a farm,Eeieeioh.\n",
      "    And on his farm he had a dog ,Eeieeioh,\n",
      "    With a woof woof here,and a woof woof there,\n",
      "    Here a woof there a woof ,\n",
      "    everywhere a woof woof ,\n",
      "    Old McDonald had a farm, Eeieeioh!\n",
      " \n",
      "    Old McDonald had a farm,Eeieeioh.\n",
      "    And on his farm he had a pig ,Eeieeioh,\n",
      "    With a oink oink here,and a oink oink there,\n",
      "    Here a oink there a oink ,\n",
      "    everywhere a oink oink ,\n",
      "    Old McDonald had a farm, Eeieeioh!\n",
      " \n",
      "    Old McDonald had a farm,Eeieeioh.\n",
      "    And on his farm he had a cat ,Eeieeioh,\n",
      "    With a meow meow here,and a meow meow there,\n",
      "    Here a meow there a meow ,\n",
      "    everywhere a meow meow ,\n",
      "    Old McDonald had a farm, Eeieeioh!\n",
      " \n"
     ]
    }
   ],
   "source": [
    "for i in range(0, len(animal)):\n",
    "    OM(animal[i], sound[i])\n",
    "    print(\" \")"
   ]
  },
  {
   "attachments": {},
   "cell_type": "markdown",
   "metadata": {},
   "source": [
    "#### it's your turn\n",
    "#### The ant marching\n",
    "The ants go marching one by one, hurrah, hurrah\n",
    "The ants go marching one by one, hurrah, hurrah\n",
    "The ants go marching one by one,\n",
    "The little one stops to suck his thumb\n",
    "And they all go marching down to the ground\n",
    "To get out of the rain, BOOM! BOOM! BOOM!\n",
    "The ants go marching two by two, hurrah, hurrah\n",
    "The ants go marching two by two, hurrah, hurrah\n",
    "The ants go marching two by two,\n",
    "The little one stops to tie his shoe\n",
    "And they all go marching down to the ground\n",
    "To get out of the rain, BOOM! BOOM! BOOM!\n",
    "The ants go marching three by three, hurrah, hurrah\n",
    "The ants go marching three by three, hurrah, hurrah\n",
    "The ants go marching three by three,\n",
    "The little one stops to climb a tree\n",
    "And they all go marching down to the ground\n",
    "To get out of the rain, BOOM! BOOM! BOOM!\n",
    "The ants go marching four by four, hurrah, hurrah\n",
    "The ants go marching four by four, hurrah, hurrah\n",
    "The ants go marching four by four,\n",
    "The little one stops to shut the door\n",
    "And they all go marching down to the ground\n",
    "To get out of the rain, BOOM! BOOM! BOOM!\n",
    "The ants go marching five by five, hurrah, hurrah\n",
    "The ants go marching five by five, hurrah, hurrah\n",
    "The ants go marching five by five,\n",
    "The little one stops to take a dive\n",
    "And they all go marching down to the ground\n",
    "To get out of the rain, BOOM! BOOM! BOOM!\n",
    "The ants go marching six by six, hurrah, hurrah\n",
    "The ants go marching six by six, hurrah, hurrah\n",
    "The ants go marching six by six,\n",
    "The little one stops to pick up sticks\n",
    "And they all go marching down to the ground\n",
    "To get out of the rain, BOOM! BOOM! BOOM!\n",
    "The ants go marching seven by seven, hurrah, hurrah\n",
    "The ants go marching seven by seven, hurrah, hurrah\n",
    "The ants go marching seven by seven,\n",
    "The little one stops to pray to heaven\n",
    "And they all go marching down to the ground\n",
    "To get out of the rain, BOOM! BOOM! BOOM!\n",
    "The ants go marching eight by eight, hurrah, hurrah\n",
    "The ants go marching eight by eight, hurrah, hurrah\n",
    "The ants go marching eight by eight,\n",
    "The little one stops to roller skate\n",
    "And they all go marching down to the ground\n",
    "To get out of the rain, BOOM! BOOM! BOOM!\n",
    "The ants go marching nine by nine, hurrah, hurrah\n",
    "The ants go marching nine by nine, hurrah, hurrah\n",
    "The ants go marching nine by nine,\n",
    "The little one stops to check the time\n",
    "And they all go marching down to the ground\n",
    "To get out of the rain, BOOM! BOOM! BOOM!\n",
    "The ants go marching ten by ten, hurrah, hurrah\n",
    "The ants go marching ten by ten, hurrah, hurrah\n",
    "The ants go marching ten by ten,\n",
    "The little one stops to shout \"The End\",\n",
    "And they all go marching down to the ground\n",
    "To get out of the rain."
   ]
  }
 ],
 "metadata": {
  "kernelspec": {
   "display_name": "Python 3",
   "language": "python",
   "name": "python3"
  },
  "language_info": {
   "codemirror_mode": {
    "name": "ipython",
    "version": 3
   },
   "file_extension": ".py",
   "mimetype": "text/x-python",
   "name": "python",
   "nbconvert_exporter": "python",
   "pygments_lexer": "ipython3",
   "version": "3.11.3"
  },
  "orig_nbformat": 4
 },
 "nbformat": 4,
 "nbformat_minor": 2
}
