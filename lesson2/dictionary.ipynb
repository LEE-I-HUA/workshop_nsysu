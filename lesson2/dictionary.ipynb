{
 "cells": [
  {
   "cell_type": "code",
   "execution_count": 49,
   "metadata": {},
   "outputs": [],
   "source": [
    "# read file \n",
    "import pandas as pd\n",
    "file = pd.read_csv('dictionary.csv')\n",
    "voc = file['vocabulary']"
   ]
  },
  {
   "cell_type": "code",
   "execution_count": 50,
   "metadata": {},
   "outputs": [],
   "source": [
    "# a function crawling English-English Dictionary \n",
    "from bs4 import BeautifulSoup\n",
    "import requests\n",
    "\n",
    "# voc is the word u want to search\n",
    "def getInformation(voc)-> str:\n",
    "    pre_href = 'https://dictionary.cambridge.org/dictionary/english/'\n",
    "    headers = {'User-Agent': 'Mozilla/5.0 (Windows NT 10.0; Win64; x64) AppleWebKit/537.36 (KHTML, like Gecko) Chrome/103.0.0.0 Safari/5'}\n",
    "    url = pre_href + voc\n",
    "\n",
    "    res = requests.get(url,allow_redirects=True,headers=headers)\n",
    "    res.encoding='utf-8' \n",
    "    soup = BeautifulSoup(res.text, \"html.parser\")\n",
    "\n",
    "    meaning = ''\n",
    "    partOfSpeach = soup.find_all('span', class_= \"pos dpos\")\n",
    "    explanation =  soup.find_all('div', class_= \"def ddef_d db\")\n",
    "    i = 1\n",
    "    try:    \n",
    "        for j in range(len(partOfSpeach)):\n",
    "            meaning +=('{}'.format(i) + '. '+ partOfSpeach[j].get_text()+ '. '+ explanation[j].get_text()+ '\\n').replace( ':', '')\n",
    "            i+=1\n",
    "    except IndexError:\n",
    "        for j in range(len(explanation)):\n",
    "            meaning +=('{}'.format(i) + '. '+ partOfSpeach[j].get_text()+ '. '+ explanation[j].get_text()+ '\\n').replace( ':', '')\n",
    "            i+=1\n",
    "    return meaning\n"
   ]
  },
  {
   "cell_type": "code",
   "execution_count": 51,
   "metadata": {},
   "outputs": [],
   "source": [
    "meaning = []\n",
    "for word in voc:\n",
    "    meaning.append(getInformation(word))"
   ]
  },
  {
   "cell_type": "code",
   "execution_count": 52,
   "metadata": {},
   "outputs": [],
   "source": [
    "# write in csv    \n",
    "dic = pd.DataFrame({'vocabulary': voc,\n",
    "                'meaning': meaning})\n",
    "dic.to_csv('dictionary_after.csv', mode='w', index=False)"
   ]
  }
 ],
 "metadata": {
  "kernelspec": {
   "display_name": "Python 3",
   "language": "python",
   "name": "python3"
  },
  "language_info": {
   "codemirror_mode": {
    "name": "ipython",
    "version": 3
   },
   "file_extension": ".py",
   "mimetype": "text/x-python",
   "name": "python",
   "nbconvert_exporter": "python",
   "pygments_lexer": "ipython3",
   "version": "3.10.4"
  },
  "orig_nbformat": 4
 },
 "nbformat": 4,
 "nbformat_minor": 2
}
